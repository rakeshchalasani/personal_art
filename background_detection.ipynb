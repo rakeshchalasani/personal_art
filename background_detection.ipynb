{
  "nbformat": 4,
  "nbformat_minor": 0,
  "metadata": {
    "colab": {
      "name": "background_detection.ipynb",
      "provenance": [],
      "authorship_tag": "ABX9TyMdMpRDnP1Hp0DbPEglOezf",
      "include_colab_link": true
    },
    "kernelspec": {
      "name": "python3",
      "display_name": "Python 3"
    },
    "language_info": {
      "name": "python"
    }
  },
  "cells": [
    {
      "cell_type": "markdown",
      "metadata": {
        "id": "view-in-github",
        "colab_type": "text"
      },
      "source": [
        "<a href=\"https://colab.research.google.com/github/rakeshchalasani/personal_art/blob/main/background_detection.ipynb\" target=\"_parent\"><img src=\"https://colab.research.google.com/assets/colab-badge.svg\" alt=\"Open In Colab\"/></a>"
      ]
    },
    {
      "cell_type": "code",
      "metadata": {
        "id": "mm6q1HsVEWoL"
      },
      "source": [
        "import torch"
      ],
      "execution_count": 2,
      "outputs": []
    }
  ]
}